{
  "cells": [
    {
      "cell_type": "markdown",
      "metadata": {
        "colab_type": "text",
        "id": "view-in-github"
      },
      "source": [
        "<a href=\"https://colab.research.google.com/github/xjdr-alt/entropix/blob/main/entropix.ipynb\" target=\"_parent\"><img src=\"https://colab.research.google.com/assets/colab-badge.svg\" alt=\"Open In Colab\"/></a>"
      ]
    },
    {
      "cell_type": "code",
      "execution_count": 1,
      "metadata": {
        "id": "xZd9EBLmgKU6"
      },
      "outputs": [],
      "source": [
        "from typing import Dict, List, NamedTuple, Optional, Tuple\n",
        "\n",
        "import torch\n",
        "import os"
      ]
    },
    {
      "cell_type": "markdown",
      "metadata": {
        "id": "-v7mNYwHnPJz"
      },
      "source": [
        "# Set Model ID and Token"
      ]
    },
    {
      "cell_type": "code",
      "execution_count": 2,
      "metadata": {
        "id": "oHaZYRqAnRPS"
      },
      "outputs": [],
      "source": [
        "MODEL_ID = 'meta-llama/Llama-3.2-1B-Instruct'\n",
        "# huggingface token from https://huggingface.co/settings/tokens\n",
        "TOKEN = ''"
      ]
    },
    {
      "cell_type": "markdown",
      "metadata": {
        "id": "e2IdvdlSltd9"
      },
      "source": [
        "# Config"
      ]
    },
    {
      "cell_type": "code",
      "execution_count": 1,
      "metadata": {
        "id": "RHxP8Bd1lvo8"
      },
      "outputs": [],
      "source": [
        "%load entropix/config.py"
      ]
    },
    {
      "cell_type": "markdown",
      "metadata": {
        "id": "F0fWAb83ghC1"
      },
      "source": [
        "# Download Weights"
      ]
    },
    {
      "cell_type": "code",
      "execution_count": 5,
      "metadata": {
        "id": "u3lTK6HWhbFV"
      },
      "outputs": [],
      "source": [
        "%load entropix/download_weights.py"
      ]
    },
    {
      "cell_type": "code",
      "execution_count": null,
      "metadata": {},
      "outputs": [],
      "source": [
        "if not os.path.exists('weights'):\n",
        "    download_weights()"
      ]
    },
    {
      "cell_type": "markdown",
      "metadata": {
        "id": "mx72XH3OiYTB"
      },
      "source": [
        "# Load Weights"
      ]
    },
    {
      "cell_type": "code",
      "execution_count": 6,
      "metadata": {
        "id": "2WdLNnGTicBG"
      },
      "outputs": [],
      "source": [
        "%load entropix/torch_weights.py"
      ]
    },
    {
      "cell_type": "markdown",
      "metadata": {
        "id": "WuT59jyTlNOj"
      },
      "source": [
        "# KVCache"
      ]
    },
    {
      "cell_type": "code",
      "execution_count": 7,
      "metadata": {
        "id": "FoE8AuSDlPtr"
      },
      "outputs": [],
      "source": [
        "%load entropix/torch_kvcache.py"
      ]
    },
    {
      "cell_type": "markdown",
      "metadata": {
        "id": "IYjjOvqElY1R"
      },
      "source": [
        "# Model"
      ]
    },
    {
      "cell_type": "code",
      "execution_count": 8,
      "metadata": {
        "id": "oQe0q_Jzlap2"
      },
      "outputs": [],
      "source": [
        "%load entropix/torch_model.py"
      ]
    },
    {
      "cell_type": "markdown",
      "metadata": {
        "id": "SzaxLJKYmEqt"
      },
      "source": [
        "# Main"
      ]
    },
    {
      "cell_type": "code",
      "execution_count": null,
      "metadata": {},
      "outputs": [],
      "source": [
        "%load entropix/torch_sampler.py"
      ]
    },
    {
      "cell_type": "code",
      "execution_count": null,
      "metadata": {
        "colab": {
          "base_uri": "https://localhost:8080/"
        },
        "id": "DMFl-xY-mGlg",
        "outputId": "a8c67b96-d719-4fda-c29b-4b519f23bc6b"
      },
      "outputs": [],
      "source": [
        "%load entropix/torch_main.py"
      ]
    },
    {
      "cell_type": "code",
      "execution_count": null,
      "metadata": {},
      "outputs": [],
      "source": [
        "main()"
      ]
    }
  ],
  "metadata": {
    "accelerator": "TPU",
    "colab": {
      "authorship_tag": "ABX9TyMwNK6aEAWPQERQG0wgmb5s",
      "gpuType": "V28",
      "include_colab_link": true,
      "provenance": []
    },
    "kernelspec": {
      "display_name": ".venv",
      "language": "python",
      "name": "python3"
    },
    "language_info": {
      "codemirror_mode": {
        "name": "ipython",
        "version": 3
      },
      "file_extension": ".py",
      "mimetype": "text/x-python",
      "name": "python",
      "nbconvert_exporter": "python",
      "pygments_lexer": "ipython3",
      "version": "3.10.14"
    }
  },
  "nbformat": 4,
  "nbformat_minor": 0
}
